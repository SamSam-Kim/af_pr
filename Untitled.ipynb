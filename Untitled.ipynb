{
 "cells": [
  {
   "cell_type": "markdown",
   "id": "internal-interface",
   "metadata": {},
   "source": [
    "# 깜짝 퀴즈\n",
    "---\n",
    "마크다운(Markdown)은 일반 텍스트 기반의 경량 마크업 언어다. 일반 텍스트로 서식이 있는 문서를 작성하는 데 사용되며, 일반 마크업 언어에 비해 문법이 쉽고 간단한 것이 특징이다. (출처: [위키피디아](https://www.wikipedia.org/))  \n",
    "- [마크다운 공식 사이트](https://daringfireball.net/projects/markdown/)\n",
    "- [GitHub](https://github.com/)\n",
    "- [아이펠](https://aiffel.io/)"
   ]
  },
  {
   "cell_type": "markdown",
   "id": "multiple-arnold",
   "metadata": {},
   "source": [
    "- d아니ㅣ...\n",
    "\n",
    "```\n",
    "print(\"dsfsdf\")\n",
    "```\n",
    "\n",
    "ㅇㄴㄹㅇㄴㄹ"
   ]
  },
  {
   "cell_type": "code",
   "execution_count": null,
   "id": "informal-stewart",
   "metadata": {},
   "outputs": [],
   "source": []
  }
 ],
 "metadata": {
  "kernelspec": {
   "display_name": "Python 3",
   "language": "python",
   "name": "python3"
  },
  "language_info": {
   "codemirror_mode": {
    "name": "ipython",
    "version": 3
   },
   "file_extension": ".py",
   "mimetype": "text/x-python",
   "name": "python",
   "nbconvert_exporter": "python",
   "pygments_lexer": "ipython3",
   "version": "3.7.9"
  }
 },
 "nbformat": 4,
 "nbformat_minor": 5
}
